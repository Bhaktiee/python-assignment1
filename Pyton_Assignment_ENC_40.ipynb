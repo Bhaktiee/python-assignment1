{
 "cells": [
  {
   "cell_type": "markdown",
   "id": "2c99fa52",
   "metadata": {},
   "source": [
    "# Assignment 1 submitted by Bhakti Salamwade"
   ]
  },
  {
   "cell_type": "markdown",
   "id": "97a6b584",
   "metadata": {},
   "source": [
    "# write a python program to calculate the length of a string"
   ]
  },
  {
   "cell_type": "code",
   "execution_count": 3,
   "id": "a41a9d73",
   "metadata": {},
   "outputs": [
    {
     "name": "stdout",
     "output_type": "stream",
     "text": [
      "Enter the stringToday is The First Day Of New Year \n"
     ]
    }
   ],
   "source": [
    "s=input(\"Enter the string\")"
   ]
  },
  {
   "cell_type": "code",
   "execution_count": 4,
   "id": "72741960",
   "metadata": {},
   "outputs": [
    {
     "name": "stdout",
     "output_type": "stream",
     "text": [
      "Today is The First Day Of New Year \n"
     ]
    }
   ],
   "source": [
    "print (s)"
   ]
  },
  {
   "cell_type": "markdown",
   "id": "784dd335",
   "metadata": {},
   "source": [
    "# Length Of The String"
   ]
  },
  {
   "cell_type": "code",
   "execution_count": 6,
   "id": "d332db88",
   "metadata": {},
   "outputs": [],
   "source": [
    "l1=len(s)"
   ]
  },
  {
   "cell_type": "code",
   "execution_count": 8,
   "id": "bc59834b",
   "metadata": {},
   "outputs": [
    {
     "name": "stdout",
     "output_type": "stream",
     "text": [
      "Length Of The String: 35\n"
     ]
    }
   ],
   "source": [
    "print (\"Length Of The String:\",l1 )"
   ]
  },
  {
   "cell_type": "markdown",
   "id": "d1fd078c",
   "metadata": {},
   "source": [
    "# Q.2 Pyton Program to calculate the square root."
   ]
  },
  {
   "cell_type": "code",
   "execution_count": 9,
   "id": "b62be03e",
   "metadata": {},
   "outputs": [],
   "source": [
    "import math"
   ]
  },
  {
   "cell_type": "code",
   "execution_count": 12,
   "id": "23ebf15c",
   "metadata": {},
   "outputs": [
    {
     "name": "stdout",
     "output_type": "stream",
     "text": [
      "The square root of 16 is 4.0\n"
     ]
    }
   ],
   "source": [
    "print(\"The square root of 16 is\",math.sqrt(16))#pass the decimal number"
   ]
  },
  {
   "cell_type": "markdown",
   "id": "d410be03",
   "metadata": {},
   "source": [
    "# Q.3. Write a Python program to convert temperature in Celcius to temperature in Fahrenheit"
   ]
  },
  {
   "cell_type": "code",
   "execution_count": 14,
   "id": "51716560",
   "metadata": {},
   "outputs": [],
   "source": [
    "celsius=25"
   ]
  },
  {
   "cell_type": "code",
   "execution_count": 15,
   "id": "c014e334",
   "metadata": {},
   "outputs": [],
   "source": [
    "Fahrenheit=celsius*9/5+32"
   ]
  },
  {
   "cell_type": "code",
   "execution_count": 16,
   "id": "722dfc97",
   "metadata": {},
   "outputs": [
    {
     "name": "stdout",
     "output_type": "stream",
     "text": [
      "77.0\n"
     ]
    }
   ],
   "source": [
    "print(Fahrenheit)"
   ]
  },
  {
   "cell_type": "markdown",
   "id": "fbd7d450",
   "metadata": {},
   "source": [
    "# Q.4. Write a data type needed gor given data.(10,4.5,2+6j)"
   ]
  },
  {
   "cell_type": "code",
   "execution_count": 17,
   "id": "caad3760",
   "metadata": {},
   "outputs": [],
   "source": [
    "num=10"
   ]
  },
  {
   "cell_type": "code",
   "execution_count": 18,
   "id": "7416efb1",
   "metadata": {},
   "outputs": [
    {
     "data": {
      "text/plain": [
       "int"
      ]
     },
     "execution_count": 18,
     "metadata": {},
     "output_type": "execute_result"
    }
   ],
   "source": [
    "type(num)"
   ]
  },
  {
   "cell_type": "code",
   "execution_count": 22,
   "id": "d2b57a91",
   "metadata": {},
   "outputs": [],
   "source": [
    "num=4.5"
   ]
  },
  {
   "cell_type": "code",
   "execution_count": 23,
   "id": "29302cc8",
   "metadata": {},
   "outputs": [
    {
     "data": {
      "text/plain": [
       "float"
      ]
     },
     "execution_count": 23,
     "metadata": {},
     "output_type": "execute_result"
    }
   ],
   "source": [
    "type(num)"
   ]
  },
  {
   "cell_type": "code",
   "execution_count": 24,
   "id": "87c87912",
   "metadata": {},
   "outputs": [],
   "source": [
    "num=2+6j"
   ]
  },
  {
   "cell_type": "code",
   "execution_count": 25,
   "id": "b0c99041",
   "metadata": {},
   "outputs": [
    {
     "data": {
      "text/plain": [
       "complex"
      ]
     },
     "execution_count": 25,
     "metadata": {},
     "output_type": "execute_result"
    }
   ],
   "source": [
    "type(num)"
   ]
  },
  {
   "cell_type": "code",
   "execution_count": null,
   "id": "a63f6638",
   "metadata": {},
   "outputs": [],
   "source": []
  }
 ],
 "metadata": {
  "kernelspec": {
   "display_name": "Python 3 (ipykernel)",
   "language": "python",
   "name": "python3"
  },
  "language_info": {
   "codemirror_mode": {
    "name": "ipython",
    "version": 3
   },
   "file_extension": ".py",
   "mimetype": "text/x-python",
   "name": "python",
   "nbconvert_exporter": "python",
   "pygments_lexer": "ipython3",
   "version": "3.9.13"
  }
 },
 "nbformat": 4,
 "nbformat_minor": 5
}
